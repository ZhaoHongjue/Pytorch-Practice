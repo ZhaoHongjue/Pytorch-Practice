{
 "cells": [
  {
   "cell_type": "code",
   "execution_count": 1,
   "metadata": {},
   "outputs": [],
   "source": [
    "import torch\n",
    "from torch import nn\n",
    "import torchviz"
   ]
  },
  {
   "attachments": {},
   "cell_type": "markdown",
   "metadata": {},
   "source": [
    "## Pytorch Autograd: Backpropagation\n",
    "\n",
    "During the forward pass, autograd builds up a **computation graph** eagerly. This computation graph is represented with **Nodes and Edges**. \n",
    "\n",
    "- Whenever an operation is called on a tensor that *requires grad* (e.g., mul), PyTorch creates a **Node** in the computation graph\n",
    "- A Node can store *a reference to Tensors* and *other things that it needs for backward computation* (we’ll see an example of this later)\n",
    "- When it comes time to compute gradients, we pass some values through the created autograd graph.\n",
    "- Each node defines a backward formula."
   ]
  },
  {
   "attachments": {},
   "cell_type": "markdown",
   "metadata": {},
   "source": [
    "## Simple Linear Regression Example"
   ]
  },
  {
   "attachments": {},
   "cell_type": "markdown",
   "metadata": {},
   "source": [
    "Consider the linear regression problem\n",
    "$$\n",
    "    t = Ax + B,\n",
    "$$\n",
    "in which the solution is $A = 2$, $B = 3$."
   ]
  },
  {
   "cell_type": "code",
   "execution_count": 2,
   "metadata": {},
   "outputs": [],
   "source": [
    "x = torch.tensor([1., 2.])\n",
    "t = torch.tensor([5., 7.])\n",
    "\n",
    "# initialize A and B\n",
    "A = torch.rand((1,), requires_grad = True)\n",
    "B = torch.rand((1,), requires_grad = True)"
   ]
  },
  {
   "attachments": {},
   "cell_type": "markdown",
   "metadata": {},
   "source": [
    "Forward Process is as follows."
   ]
  },
  {
   "cell_type": "code",
   "execution_count": 3,
   "metadata": {},
   "outputs": [],
   "source": [
    "# Forward Process\n",
    "scaled = A * x \n",
    "t_hat = scaled + B \n",
    "\n",
    "# Calculate Error\n",
    "diff = t - t_hat\n",
    "sqdiff = diff ** 2\n",
    "loss = sqdiff.sum()"
   ]
  }
 ],
 "metadata": {
  "kernelspec": {
   "display_name": "Python 3",
   "language": "python",
   "name": "python3"
  },
  "language_info": {
   "codemirror_mode": {
    "name": "ipython",
    "version": 3
   },
   "file_extension": ".py",
   "mimetype": "text/x-python",
   "name": "python",
   "nbconvert_exporter": "python",
   "pygments_lexer": "ipython3",
   "version": "3.10.6"
  },
  "orig_nbformat": 4
 },
 "nbformat": 4,
 "nbformat_minor": 2
}
